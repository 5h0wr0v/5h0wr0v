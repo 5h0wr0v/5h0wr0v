{
  "nbformat": 4,
  "nbformat_minor": 0,
  "metadata": {
    "colab": {
      "provenance": [],
      "authorship_tag": "ABX9TyMVoFItiXmBu/X6zl0q9ubh",
      "include_colab_link": true
    },
    "kernelspec": {
      "name": "python3",
      "display_name": "Python 3"
    },
    "language_info": {
      "name": "python"
    }
  },
  "cells": [
    {
      "cell_type": "markdown",
      "metadata": {
        "id": "view-in-github",
        "colab_type": "text"
      },
      "source": [
        "<a href=\"https://colab.research.google.com/github/5h0wr0v/5h0wr0v/blob/main/Lab_Evaluation_5843_%2C_5669.ipynb\" target=\"_parent\"><img src=\"https://colab.research.google.com/assets/colab-badge.svg\" alt=\"Open In Colab\"/></a>"
      ]
    },
    {
      "cell_type": "markdown",
      "source": [
        "PROBLEM 1:\n"
      ],
      "metadata": {
        "id": "OTyx8Glakz0W"
      }
    },
    {
      "cell_type": "code",
      "source": [
        "def fun(s):\n",
        "    ans = \"\"\n",
        "    if len(s) < 2:\n",
        "        k  = \"Empty String\"\n",
        "    else :\n",
        "        first = s[:2]\n",
        "        last = s[len(s) - 2: len(s)]\n",
        "\n",
        "        k = first + last #221-15-5843,221-15-5669\n",
        "\n",
        "    return k\n",
        "\n",
        "print(fun(\"w3resource\"))\n",
        "print(fun(\"w3\"))\n",
        "print(fun(\"w\"))"
      ],
      "metadata": {
        "colab": {
          "base_uri": "https://localhost:8080/"
        },
        "id": "wPX-D_9ZlARE",
        "outputId": "e626d0be-23a7-4838-d466-504698995c34"
      },
      "execution_count": 1,
      "outputs": [
        {
          "output_type": "stream",
          "name": "stdout",
          "text": [
            "w3ce\n",
            "w3w3\n",
            "Empty String\n"
          ]
        }
      ]
    },
    {
      "cell_type": "markdown",
      "source": [
        "PROBLEM 2:\n"
      ],
      "metadata": {
        "id": "24gfvJkWlHe7"
      }
    },
    {
      "cell_type": "code",
      "source": [
        "def chars_swap(a, b):\n",
        "    showrov = b[:2]+a[2:]\n",
        "    azam= a[:2] + b[2:]\n",
        "\n",
        "    return showrov+\" \"+azam  #221-15-5843\n",
        "\n",
        "print(chars_swap(\"ABC\",\"XYZ\"))"
      ],
      "metadata": {
        "colab": {
          "base_uri": "https://localhost:8080/"
        },
        "id": "4jiseRWSlKT8",
        "outputId": "975db6a6-3a67-42f0-ed63-97677554779f"
      },
      "execution_count": 2,
      "outputs": [
        {
          "output_type": "stream",
          "name": "stdout",
          "text": [
            "XYC ABZ\n"
          ]
        }
      ]
    },
    {
      "cell_type": "markdown",
      "source": [
        "PROBLEM 3:\n"
      ],
      "metadata": {
        "id": "k6WRqcxjlW1I"
      }
    },
    {
      "cell_type": "code",
      "source": [
        "x= input()\n",
        "\n",
        "y= x[0] + x[len(x)//2]+x[len(x)-1] #221-15-5843;  221-15-5669\n",
        "\n",
        "print(y)"
      ],
      "metadata": {
        "colab": {
          "base_uri": "https://localhost:8080/"
        },
        "id": "s7S-oVV3lebd",
        "outputId": "70a480ac-7d2c-4cfe-8f54-de556a60d68a"
      },
      "execution_count": 3,
      "outputs": [
        {
          "output_type": "stream",
          "name": "stdout",
          "text": [
            "MASUM BAKAUL\n",
            "MBL\n"
          ]
        }
      ]
    },
    {
      "cell_type": "markdown",
      "source": [
        "PROBLEM 4:\n"
      ],
      "metadata": {
        "id": "pK2pVOj0lwhX"
      }
    },
    {
      "cell_type": "code",
      "source": [
        "#221-15-5843;  221-15-5669\n",
        "def fun(list1, list2):\n",
        "    for element in list1:\n",
        "        if element in list2:\n",
        "            return True\n",
        "    return None\n",
        "\n",
        "print(fun(list1=[1, 2, 3, 4, 5], list2=[6, 7, 8, 9, 10]))\n",
        "print(fun(list1=[1, 2, 3, 4, 5], list2=[5, 7, 8, 9, 10]))\n"
      ],
      "metadata": {
        "colab": {
          "base_uri": "https://localhost:8080/"
        },
        "id": "-GbySd_ul0BR",
        "outputId": "819ddc21-ae51-4a8b-fb1a-51ab6f499f6e"
      },
      "execution_count": 4,
      "outputs": [
        {
          "output_type": "stream",
          "name": "stdout",
          "text": [
            "None\n",
            "True\n"
          ]
        }
      ]
    },
    {
      "cell_type": "markdown",
      "source": [
        "PROBLEM 5:\n"
      ],
      "metadata": {
        "id": "gUzeCMJul-h4"
      }
    },
    {
      "cell_type": "code",
      "source": [
        "x = [5, 20, 15, 20, 25, 50, 20]\n",
        "z = [value for value in x if value != 20]\n",
        "print(z)\n"
      ],
      "metadata": {
        "colab": {
          "base_uri": "https://localhost:8080/"
        },
        "id": "hLTwPrUWmCWZ",
        "outputId": "95ca6d03-e739-46cd-9e71-66626961403b"
      },
      "execution_count": 5,
      "outputs": [
        {
          "output_type": "stream",
          "name": "stdout",
          "text": [
            "[5, 15, 25, 50]\n"
          ]
        }
      ]
    }
  ]
}